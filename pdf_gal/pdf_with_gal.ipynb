{
 "cells": [
  {
   "cell_type": "code",
   "execution_count": 1,
   "metadata": {},
   "outputs": [],
   "source": [
    "import os\n",
    "from dotenv import load_dotenv\n",
    "import guardrails as gd\n",
    "import openai\n",
    "from unstructured.partition.api import partition_via_api\n"
   ]
  },
  {
   "cell_type": "code",
   "execution_count": 2,
   "metadata": {},
   "outputs": [
    {
     "name": "stdout",
     "output_type": "stream",
     "text": [
      "Loaded .env.local\n"
     ]
    }
   ],
   "source": [
    "# Load environment variables for API Keys (see .env.example)\n",
    "ENV_FILE = \"../.env.local\"\n",
    "if os.path.exists(ENV_FILE):\n",
    "    load_dotenv(ENV_FILE, override=True)\n",
    "    print(\"Loaded .env.local\")\n",
    "else:\n",
    "    print(\"No .env.local found\")"
   ]
  },
  {
   "cell_type": "code",
   "execution_count": 5,
   "metadata": {},
   "outputs": [],
   "source": [
    "PDF_INPUT_FILE = \"msft.pdf\"\n",
    "UNSTRUCTURED_API_KEY = os.environ[\"UNSTRUCTURED_API_KEY\"]"
   ]
  },
  {
   "cell_type": "code",
   "execution_count": 6,
   "metadata": {},
   "outputs": [],
   "source": [
    "elements = partition_via_api(filename=PDF_INPUT_FILE, api_key=UNSTRUCTURED_API_KEY, coordinates=True)"
   ]
  },
  {
   "cell_type": "code",
   "execution_count": 33,
   "metadata": {},
   "outputs": [],
   "source": [
    "pdf_input = \"\\n\".join([e.id + \" -- \" + e.text for e in elements])\n",
    "element_coordinates = {e.id: e.metadata.coordinates.points for e in elements}"
   ]
  },
  {
   "cell_type": "markdown",
   "metadata": {},
   "source": [
    "## Generate and Attribute"
   ]
  },
  {
   "cell_type": "code",
   "execution_count": 25,
   "metadata": {},
   "outputs": [],
   "source": [
    "guard = gd.Guard.from_rail(\"pdf.rail\")"
   ]
  },
  {
   "cell_type": "code",
   "execution_count": 43,
   "metadata": {},
   "outputs": [
    {
     "name": "stdout",
     "output_type": "stream",
     "text": [
      "Answer: This form is the Microsoft Corporation Annual Report for the fiscal year ended June 30, 2022.\n",
      "Excerpts: ['Microsoft Corporation Annual Report 2022', 'Form 10-K (NASDAQ:MSFT)', 'For the Fiscal Year Ended June 30, 2022']\n",
      "IDs: ['0ee518dec3470425c21d8cfbb139f25d', '59479c9296a32396cd0319b19c1bad0e', '5f77f3fd8691310f6e0a2dead18977aa']\n"
     ]
    }
   ],
   "source": [
    "question = \"What is this form about?\"\n",
    "raw_llm_output, validated_output = guard(\n",
    "    openai.ChatCompletion.create,\n",
    "    prompt_params={\"pdf_text\": pdf_input, \"user_question\": question},\n",
    "    model=\"gpt-3.5-turbo-16k\",\n",
    "    temperature=0,\n",
    ")\n",
    "\n",
    "if validated_output is None or  \"pdf_qa\" not in validated_output:\n",
    "    print(f\"Error: {validated_output}\")\n",
    "else:\n",
    "    answer = validated_output[\"pdf_qa\"][\"answer\"]\n",
    "    excerpts = [e[\"excerpt\"] for e in validated_output[\"pdf_qa\"][\"pdf_excerpts\"]]\n",
    "    ids = [e[\"id\"] for e in validated_output[\"pdf_qa\"][\"pdf_excerpts\"]]\n",
    "\n",
    "    print(f\"Answer: {answer}\")\n",
    "    print(f\"Excerpts: {excerpts}\")\n",
    "    print(f\"IDs: {ids}\")"
   ]
  },
  {
   "cell_type": "markdown",
   "metadata": {},
   "source": [
    "## Visualize\n",
    "There can be a range of \"UIs\" built to show the results of the GAL process, but for this notebook we will just\n",
    "print out the results in a formatted string.\n",
    "\n",
    "In this case we are using the ID output by the LLM to retrieve the coordinates of the associated element in the PDF. These coordinates are the bounding box of the element in the PDF. We can use these coordinates to draw a box around the element in the PDF."
   ]
  },
  {
   "cell_type": "code",
   "execution_count": 45,
   "metadata": {},
   "outputs": [
    {
     "name": "stdout",
     "output_type": "stream",
     "text": [
      "Microsoft Corporation Annual Report 2022\n",
      "0ee518dec3470425c21d8cfbb139f25d\n",
      "Form 10-K (NASDAQ:MSFT)\n",
      "59479c9296a32396cd0319b19c1bad0e\n",
      "For the Fiscal Year Ended June 30, 2022\n",
      "5f77f3fd8691310f6e0a2dead18977aa\n",
      "\n",
      "This form is the Microsoft Corporation Annual Report for the fiscal year ended June 30, 2022.\n",
      "\n",
      "I generated this answer based on the following excerpts:\n",
      "\tMicrosoft Corporation Annual Report 2022 found at ((103.82100870000001, 311.31328289759995), (103.82100870000001, 330.5186396976), (490.97291395368, 330.5186396976), (490.97291395368, 311.31328289759995)) in msft.pdf\n",
      "\tForm 10-K (NASDAQ:MSFT) found at ((201.6482949, 347.2897175232), (201.6482949, 361.6937351232), (392.78744784936003, 361.6937351232), (392.78744784936003, 347.2897175232)) in msft.pdf\n",
      "\tFor the Fiscal Year Ended June 30, 2022 found at ((222.3540702, 75.14256885840007), (222.3540702, 82.94474505840003), (370.92917109113995, 82.94474505840003), (370.92917109113995, 75.14256885840007)) in msft.pdf\n",
      "\n"
     ]
    }
   ],
   "source": [
    "output_str = f\"\"\"\n",
    "{answer}\n",
    "\n",
    "I generated this answer based on the following excerpts:\n",
    "\"\"\"\n",
    "\n",
    "for excerpt, id in zip(excerpts, ids):\n",
    "    print(excerpt)\n",
    "    print(id)\n",
    "    output_str += f\"\\t{excerpt} found at {element_coordinates[id]} in {PDF_INPUT_FILE}\\n\"\n",
    "\n",
    "print(output_str)"
   ]
  }
 ],
 "metadata": {
  "kernelspec": {
   "display_name": "venv",
   "language": "python",
   "name": "python3"
  },
  "language_info": {
   "codemirror_mode": {
    "name": "ipython",
    "version": 3
   },
   "file_extension": ".py",
   "mimetype": "text/x-python",
   "name": "python",
   "nbconvert_exporter": "python",
   "pygments_lexer": "ipython3",
   "version": "3.11.3"
  },
  "orig_nbformat": 4
 },
 "nbformat": 4,
 "nbformat_minor": 2
}
